{
 "cells": [
  {
   "cell_type": "markdown",
   "metadata": {
    "colab_type": "text",
    "id": "8PEI59mRTLnr"
   },
   "source": [
    "# NumPyの基礎\n",
    "NumPyはPythonの拡張モジュールで、シンプルな表記で効率的なデータの操作を可能にします。  \n",
    "多次元配列を強力にサポートし、内部はC言語で実装されているため高速に動作します。   \n",
    "NumPyには様々な機能があるのですが、今回は本コースで使用する範囲のみ解説します。"
   ]
  },
  {
   "cell_type": "markdown",
   "metadata": {
    "colab_type": "text",
    "id": "5e9PIBU6TLnt"
   },
   "source": [
    "## ●Numpyの導入"
   ]
  },
  {
   "cell_type": "markdown",
   "metadata": {
    "colab_type": "text",
    "id": "eG_cxnskTLnt"
   },
   "source": [
    "Pythonでは、importの記述によりモジュールを導入することができます。  \n",
    "NumPyはモジュールなので、NumPyを使用するためには、コードの先頭に例えば以下のように記述します。  "
   ]
  },
  {
   "cell_type": "code",
   "execution_count": null,
   "metadata": {
    "colab": {},
    "colab_type": "code",
    "id": "CWUJW65XTLnu"
   },
   "outputs": [],
   "source": [
    "import numpy as np"
   ]
  },
  {
   "cell_type": "markdown",
   "metadata": {
    "colab_type": "text",
    "id": "7Flpz0G1TLnx"
   },
   "source": [
    "asを使うことでモジュールに別の名前をつけることができます。  \n",
    "このように記述すると、これ以降npという名前でNumPyのモジュールを扱うことができます。  "
   ]
  },
  {
   "cell_type": "markdown",
   "metadata": {
    "colab_type": "text",
    "id": "Lfd5_xOHTLnx"
   },
   "source": [
    "## ●Numpyの配列\n",
    "\n",
    "人工知能の計算にはベクトルや行列を多用しますが、これらを表現するのにNumPyの配列を用います。  \n",
    "ベクトルや行列についてはのちのセクションで改めて解説しますが、ここではとりあえずNumPyの配列とは数値が折り重なって並んだもの、と考えていただければ十分です。  \n",
    "以降、単に配列と呼ぶ場合はNumPyの配列を指すことにします。  \n",
    "\n",
    "NumPyの配列は、NumPyのarray関数を使うことでPythonのリストから簡単に作ることができます。 "
   ]
  },
  {
   "cell_type": "code",
   "execution_count": 2,
   "metadata": {
    "colab": {
     "base_uri": "https://localhost:8080/",
     "height": 34
    },
    "colab_type": "code",
    "executionInfo": {
     "elapsed": 1831,
     "status": "ok",
     "timestamp": 1570843010516,
     "user": {
      "displayName": "我妻幸長",
      "photoUrl": "https://lh3.googleusercontent.com/a-/AAuE7mApriSD7WFqS90hsEF0afLpI9godMCxMjssIlZxhQ=s64",
      "userId": "18163015384048015182"
     },
     "user_tz": -540
    },
    "id": "S4WV4FcFTLny",
    "outputId": "0576fca6-b604-4477-dcd6-0299a09a8827"
   },
   "outputs": [
    {
     "name": "stdout",
     "output_type": "stream",
     "text": [
      "[0 1 2 3 4 5]\n"
     ]
    }
   ],
   "source": [
    "import numpy as np\n",
    "\n",
    "a = np.array([0, 1, 2, 3, 4, 5])  # PythonのリストからNumPyの配列を作る\n",
    "print(a) "
   ]
  },
  {
   "cell_type": "markdown",
   "metadata": {
    "colab_type": "text",
    "id": "9WPpjCzCTLn1"
   },
   "source": [
    "このような配列が折り重なった、2次元の配列を作ることもできます。  \n",
    "2次元配列は、要素がリストであるリスト（2重のリスト）から作ります。"
   ]
  },
  {
   "cell_type": "code",
   "execution_count": 3,
   "metadata": {
    "colab": {
     "base_uri": "https://localhost:8080/",
     "height": 51
    },
    "colab_type": "code",
    "executionInfo": {
     "elapsed": 1824,
     "status": "ok",
     "timestamp": 1570843010517,
     "user": {
      "displayName": "我妻幸長",
      "photoUrl": "https://lh3.googleusercontent.com/a-/AAuE7mApriSD7WFqS90hsEF0afLpI9godMCxMjssIlZxhQ=s64",
      "userId": "18163015384048015182"
     },
     "user_tz": -540
    },
    "id": "cbm07F22TLn2",
    "outputId": "c20be0de-6290-4536-a6c6-ff44b89c91ee"
   },
   "outputs": [
    {
     "name": "stdout",
     "output_type": "stream",
     "text": [
      "[[0 1 2]\n",
      " [3 4 5]]\n"
     ]
    }
   ],
   "source": [
    "import numpy as np\n",
    "\n",
    "b = np.array([[0, 1, 2], [3, 4, 5]])  # 2重のリストからNumPyの2次元配列を作る\n",
    "print(b)"
   ]
  },
  {
   "cell_type": "markdown",
   "metadata": {
    "colab_type": "text",
    "id": "0GJVCigITLn4"
   },
   "source": [
    "同様に、3次元の配列も作ることができます。  \n",
    "3次元配列は2次元の配列がさらに折り重なったもので、3重のリストから作ります。"
   ]
  },
  {
   "cell_type": "code",
   "execution_count": 4,
   "metadata": {
    "colab": {
     "base_uri": "https://localhost:8080/",
     "height": 102
    },
    "colab_type": "code",
    "executionInfo": {
     "elapsed": 1332,
     "status": "ok",
     "timestamp": 1570843018496,
     "user": {
      "displayName": "我妻幸長",
      "photoUrl": "https://lh3.googleusercontent.com/a-/AAuE7mApriSD7WFqS90hsEF0afLpI9godMCxMjssIlZxhQ=s64",
      "userId": "18163015384048015182"
     },
     "user_tz": -540
    },
    "id": "4p3lrbpbTLn5",
    "outputId": "a6c81311-9dbb-4107-d3ca-c47fae89a0f6"
   },
   "outputs": [
    {
     "name": "stdout",
     "output_type": "stream",
     "text": [
      "[[[0 1 2]\n",
      "  [3 4 5]]\n",
      "\n",
      " [[5 4 3]\n",
      "  [2 1 0]]]\n"
     ]
    }
   ],
   "source": [
    "import numpy as np\n",
    "\n",
    "c = np.array([[[0, 1, 2], [3, 4, 5]], [[5, 4, 3], [2, 1, 0]]])  # 3重のリストからNumPyの3次元配列を作る\n",
    "print(c)"
   ]
  },
  {
   "cell_type": "markdown",
   "metadata": {
    "colab_type": "text",
    "id": "RyoE4NnoTLn7"
   },
   "source": [
    "## ●配列の演算\n",
    "\n",
    "以下の例では、配列と数値の間で演算を行なっています。  \n",
    "この場合、配列の各要素と数値の間で演算が行われます。"
   ]
  },
  {
   "cell_type": "code",
   "execution_count": 5,
   "metadata": {
    "colab": {
     "base_uri": "https://localhost:8080/",
     "height": 153
    },
    "colab_type": "code",
    "executionInfo": {
     "elapsed": 1389,
     "status": "ok",
     "timestamp": 1570843020012,
     "user": {
      "displayName": "我妻幸長",
      "photoUrl": "https://lh3.googleusercontent.com/a-/AAuE7mApriSD7WFqS90hsEF0afLpI9godMCxMjssIlZxhQ=s64",
      "userId": "18163015384048015182"
     },
     "user_tz": -540
    },
    "id": "M9b6D0t2TLn8",
    "outputId": "0b9ab7fe-2643-4072-f07a-8df6c99141aa"
   },
   "outputs": [
    {
     "name": "stdout",
     "output_type": "stream",
     "text": [
      "[[0 1 2]\n",
      " [3 4 5]]\n",
      "\n",
      "[[3 4 5]\n",
      " [6 7 8]]\n",
      "\n",
      "[[ 0  3  6]\n",
      " [ 9 12 15]]\n"
     ]
    }
   ],
   "source": [
    "import numpy as np\n",
    "\n",
    "a = np.array([[0, 1, 2], [3, 4, 5]])  # 2次元配列\n",
    "\n",
    "print(a) \n",
    "print()\n",
    "print(a + 3)  # 各要素に3を足す\n",
    "print()\n",
    "print(a * 3)  # 各要素に3をかける"
   ]
  },
  {
   "cell_type": "markdown",
   "metadata": {
    "colab_type": "text",
    "id": "ETHgZASbTLn-"
   },
   "source": [
    "また、以下は配列同士の演算の例です。  \n",
    "この場合は同じ位置の各要素同士で演算が行われます。 "
   ]
  },
  {
   "cell_type": "code",
   "execution_count": 6,
   "metadata": {
    "colab": {
     "base_uri": "https://localhost:8080/",
     "height": 204
    },
    "colab_type": "code",
    "executionInfo": {
     "elapsed": 1285,
     "status": "ok",
     "timestamp": 1570843024212,
     "user": {
      "displayName": "我妻幸長",
      "photoUrl": "https://lh3.googleusercontent.com/a-/AAuE7mApriSD7WFqS90hsEF0afLpI9godMCxMjssIlZxhQ=s64",
      "userId": "18163015384048015182"
     },
     "user_tz": -540
    },
    "id": "f-P72aAATLn_",
    "outputId": "19ac6c0a-0268-4ff1-8be9-8f7952e6e7f1"
   },
   "outputs": [
    {
     "name": "stdout",
     "output_type": "stream",
     "text": [
      "[[0 1 2]\n",
      " [3 4 5]]\n",
      "\n",
      "[[2 0 1]\n",
      " [5 3 4]]\n",
      "\n",
      "[[2 1 3]\n",
      " [8 7 9]]\n",
      "\n",
      "[[ 0  0  2]\n",
      " [15 12 20]]\n"
     ]
    }
   ],
   "source": [
    "b = np.array([[0, 1, 2], [3, 4, 5]])  # 2次元配列\n",
    "c = np.array([[2, 0, 1], [5, 3, 4]])  # 2次元配列\n",
    "\n",
    "print(b)\n",
    "print()\n",
    "print(c)\n",
    "print()\n",
    "print(b + c)\n",
    "print()\n",
    "print(b * c)"
   ]
  },
  {
   "cell_type": "markdown",
   "metadata": {
    "colab_type": "text",
    "id": "jtTr0asBTLoA"
   },
   "source": [
    "ブロードキャストという機能により、特定の条件を満たしていれば形状の異なる配列同士でも演算が可能です。"
   ]
  },
  {
   "cell_type": "code",
   "execution_count": 7,
   "metadata": {
    "colab": {
     "base_uri": "https://localhost:8080/",
     "height": 51
    },
    "colab_type": "code",
    "executionInfo": {
     "elapsed": 542,
     "status": "ok",
     "timestamp": 1570843025565,
     "user": {
      "displayName": "我妻幸長",
      "photoUrl": "https://lh3.googleusercontent.com/a-/AAuE7mApriSD7WFqS90hsEF0afLpI9godMCxMjssIlZxhQ=s64",
      "userId": "18163015384048015182"
     },
     "user_tz": -540
    },
    "id": "6lDdx3tRTLoB",
    "outputId": "30ea980f-173c-43dc-a5e6-1ac16c132cea"
   },
   "outputs": [
    {
     "name": "stdout",
     "output_type": "stream",
     "text": [
      "[[2 3]\n",
      " [2 3]]\n"
     ]
    }
   ],
   "source": [
    "d = np.array([[1, 1],\n",
    "              [1, 1]])  # 2次元配列\n",
    "e = np.array([1, 2])  # 1次元配列\n",
    "\n",
    "print(d + e)"
   ]
  },
  {
   "cell_type": "markdown",
   "metadata": {
    "colab_type": "text",
    "id": "U0i_YVmnTLoD"
   },
   "source": [
    "ブロードキャストの厳密なルールは少々複雑で、全て記述すると長くなってしまうので、今回は本コースで必要な範囲のみ解説しました。"
   ]
  },
  {
   "cell_type": "markdown",
   "metadata": {
    "colab_type": "text",
    "id": "_MgpaIvqTLoE"
   },
   "source": [
    "## ●形状の変換\n",
    "NumPyのshapeメソッドにより、配列の形状を得ることができます。  "
   ]
  },
  {
   "cell_type": "code",
   "execution_count": 8,
   "metadata": {
    "colab": {
     "base_uri": "https://localhost:8080/",
     "height": 34
    },
    "colab_type": "code",
    "executionInfo": {
     "elapsed": 1244,
     "status": "ok",
     "timestamp": 1570843028019,
     "user": {
      "displayName": "我妻幸長",
      "photoUrl": "https://lh3.googleusercontent.com/a-/AAuE7mApriSD7WFqS90hsEF0afLpI9godMCxMjssIlZxhQ=s64",
      "userId": "18163015384048015182"
     },
     "user_tz": -540
    },
    "id": "2A-NU9z1TLoE",
    "outputId": "c273712d-ccb0-4d51-eaf2-0619ef518632"
   },
   "outputs": [
    {
     "name": "stdout",
     "output_type": "stream",
     "text": [
      "(2, 3)\n"
     ]
    }
   ],
   "source": [
    "import numpy as np\n",
    "\n",
    "a = np.array([[0, 1, 2],\n",
    "            [3, 4, 5]])\n",
    "\n",
    "print(a.shape)"
   ]
  },
  {
   "cell_type": "markdown",
   "metadata": {
    "colab_type": "text",
    "id": "PsdkpN7UTLoG"
   },
   "source": [
    "reshapeメソッドを使うと、配列の形状を変換することができます。  \n",
    "以下の例では、要素数が8の1次元配列を 形状が(2, 4)の2次元配列に変換しています。  "
   ]
  },
  {
   "cell_type": "code",
   "execution_count": 9,
   "metadata": {
    "colab": {
     "base_uri": "https://localhost:8080/",
     "height": 51
    },
    "colab_type": "code",
    "executionInfo": {
     "elapsed": 745,
     "status": "ok",
     "timestamp": 1570843029556,
     "user": {
      "displayName": "我妻幸長",
      "photoUrl": "https://lh3.googleusercontent.com/a-/AAuE7mApriSD7WFqS90hsEF0afLpI9godMCxMjssIlZxhQ=s64",
      "userId": "18163015384048015182"
     },
     "user_tz": -540
    },
    "id": "onsdEGMSTLoH",
    "outputId": "2056a9a1-c137-4603-c64e-976d7aa37e87"
   },
   "outputs": [
    {
     "name": "stdout",
     "output_type": "stream",
     "text": [
      "[[0 1 2 3]\n",
      " [4 5 6 7]]\n"
     ]
    }
   ],
   "source": [
    "b = np.array([0, 1, 2, 3, 4, 5, 6, 7])    # 配列の作成\n",
    "c = b.reshape(2, 4)                       # (2, 4)の2次元配列に変換\n",
    "print(c)"
   ]
  },
  {
   "cell_type": "markdown",
   "metadata": {
    "colab_type": "text",
    "id": "99Rq7OhTTLoJ"
   },
   "source": [
    "reshapeの引数を-1にすることで、どのような形状の配列でも1次元配列に変換することができます。"
   ]
  },
  {
   "cell_type": "code",
   "execution_count": 10,
   "metadata": {
    "colab": {
     "base_uri": "https://localhost:8080/",
     "height": 34
    },
    "colab_type": "code",
    "executionInfo": {
     "elapsed": 432,
     "status": "ok",
     "timestamp": 1570843031062,
     "user": {
      "displayName": "我妻幸長",
      "photoUrl": "https://lh3.googleusercontent.com/a-/AAuE7mApriSD7WFqS90hsEF0afLpI9godMCxMjssIlZxhQ=s64",
      "userId": "18163015384048015182"
     },
     "user_tz": -540
    },
    "id": "_YZ2URRNTLoJ",
    "outputId": "f43ab497-a591-4d60-f98e-139ba3e225d4"
   },
   "outputs": [
    {
     "name": "stdout",
     "output_type": "stream",
     "text": [
      "[0 1 2 3 4 5 5 4 3 2 1 0]\n"
     ]
    }
   ],
   "source": [
    "d = np.array([[[0, 1, 2],\n",
    "                   [3, 4, 5]],\n",
    "                  \n",
    "                  [[5, 4, 3],\n",
    "                   [2, 1, 0]]])  # 3重のリストからNumPyの3次元配列を作る\n",
    "\n",
    "\n",
    "e = d.reshape(-1)\n",
    "print(e)"
   ]
  },
  {
   "cell_type": "markdown",
   "metadata": {
    "colab_type": "text",
    "id": "neEBCIjkTLoL"
   },
   "source": [
    "## ●要素へのアクセス"
   ]
  },
  {
   "cell_type": "markdown",
   "metadata": {
    "colab_type": "text",
    "id": "DFpo1tr0TLoM"
   },
   "source": [
    "配列の各要素へのアクセスは、リストの場合と同様にインデックスを利用します。  \n",
    "一次元配列の場合、以下のように`[ ]`内にインデックスを指定することで、要素を取り出すことができます。"
   ]
  },
  {
   "cell_type": "code",
   "execution_count": 11,
   "metadata": {
    "colab": {
     "base_uri": "https://localhost:8080/",
     "height": 34
    },
    "colab_type": "code",
    "executionInfo": {
     "elapsed": 1029,
     "status": "ok",
     "timestamp": 1570843034004,
     "user": {
      "displayName": "我妻幸長",
      "photoUrl": "https://lh3.googleusercontent.com/a-/AAuE7mApriSD7WFqS90hsEF0afLpI9godMCxMjssIlZxhQ=s64",
      "userId": "18163015384048015182"
     },
     "user_tz": -540
    },
    "id": "oZNEQLbjTLoM",
    "outputId": "3a19f81f-3c81-41a9-cc8b-816ce75e8a33"
   },
   "outputs": [
    {
     "name": "stdout",
     "output_type": "stream",
     "text": [
      "2\n"
     ]
    }
   ],
   "source": [
    "import numpy as np\n",
    "\n",
    "a = np.array([0, 1, 2, 3, 4, 5])\n",
    "print(a[2])"
   ]
  },
  {
   "cell_type": "markdown",
   "metadata": {
    "colab_type": "text",
    "id": "UF8HmYGYTLoO"
   },
   "source": [
    "この場合は、先頭から0,1,2...とインデックスをつけた場合の、インデックスが2要素を取り出しています。  \n",
    "また、リストの場合と同様に、インデックスを指定して要素を入れ替えることができます。"
   ]
  },
  {
   "cell_type": "code",
   "execution_count": 12,
   "metadata": {
    "colab": {
     "base_uri": "https://localhost:8080/",
     "height": 34
    },
    "colab_type": "code",
    "executionInfo": {
     "elapsed": 796,
     "status": "ok",
     "timestamp": 1570843034305,
     "user": {
      "displayName": "我妻幸長",
      "photoUrl": "https://lh3.googleusercontent.com/a-/AAuE7mApriSD7WFqS90hsEF0afLpI9godMCxMjssIlZxhQ=s64",
      "userId": "18163015384048015182"
     },
     "user_tz": -540
    },
    "id": "c-vfLZ49TLoP",
    "outputId": "0c125d3f-7180-4ad5-d400-4aeb7b12e6ae"
   },
   "outputs": [
    {
     "name": "stdout",
     "output_type": "stream",
     "text": [
      "[0 1 9 3 4 5]\n"
     ]
    }
   ],
   "source": [
    "a[2] = 9\n",
    "print(a)"
   ]
  },
  {
   "cell_type": "markdown",
   "metadata": {
    "colab_type": "text",
    "id": "xGQ4gl3nTLoR"
   },
   "source": [
    "この場合は、インデックスが2の要素を9に置き換えています。  \n",
    "\n",
    "2次元配列の場合、要素を取り出す際にはインデックスを縦横で2つ指定します。  \n",
    "`,`（カンマ）区切りでインデックスを並べることも、インデックスを入れた`[ ]`を2つ並べることもできます。  "
   ]
  },
  {
   "cell_type": "code",
   "execution_count": 13,
   "metadata": {
    "colab": {
     "base_uri": "https://localhost:8080/",
     "height": 34
    },
    "colab_type": "code",
    "executionInfo": {
     "elapsed": 449,
     "status": "ok",
     "timestamp": 1570843036219,
     "user": {
      "displayName": "我妻幸長",
      "photoUrl": "https://lh3.googleusercontent.com/a-/AAuE7mApriSD7WFqS90hsEF0afLpI9godMCxMjssIlZxhQ=s64",
      "userId": "18163015384048015182"
     },
     "user_tz": -540
    },
    "id": "oLGquZxlTLoS",
    "outputId": "cdd1bbe5-c1ef-4e9a-8bfa-b4949ba6acc0"
   },
   "outputs": [
    {
     "name": "stdout",
     "output_type": "stream",
     "text": [
      "5\n"
     ]
    }
   ],
   "source": [
    "b = np.array([[0, 1, 2],\n",
    "              [3, 4, 5]])\n",
    "\n",
    "print(b[1, 2])  # b[1][2]と同じ"
   ]
  },
  {
   "cell_type": "markdown",
   "metadata": {
    "colab_type": "text",
    "id": "e78N2fZLTLoU"
   },
   "source": [
    "縦のインデックスが1、横のインデックスが2の要素を取り出すことができました。  \n",
    "要素を入れ替える際も、同様にインデックスを2つ指定します。"
   ]
  },
  {
   "cell_type": "code",
   "execution_count": 14,
   "metadata": {
    "colab": {
     "base_uri": "https://localhost:8080/",
     "height": 51
    },
    "colab_type": "code",
    "executionInfo": {
     "elapsed": 724,
     "status": "ok",
     "timestamp": 1570843037140,
     "user": {
      "displayName": "我妻幸長",
      "photoUrl": "https://lh3.googleusercontent.com/a-/AAuE7mApriSD7WFqS90hsEF0afLpI9godMCxMjssIlZxhQ=s64",
      "userId": "18163015384048015182"
     },
     "user_tz": -540
    },
    "id": "5lyArOvLTLoU",
    "outputId": "911c1c30-61cf-4ebf-a609-ef38defd57e0"
   },
   "outputs": [
    {
     "name": "stdout",
     "output_type": "stream",
     "text": [
      "[[0 1 2]\n",
      " [3 4 9]]\n"
     ]
    }
   ],
   "source": [
    "b[1, 2] = 9\n",
    "\n",
    "print(b)"
   ]
  },
  {
   "cell_type": "markdown",
   "metadata": {
    "colab_type": "text",
    "id": "uw-3SmU2TLoW"
   },
   "source": [
    "2つのインデックスで指定した要素が入れ替わりました。  \n",
    "3次元以上の配列の場合も同様に、インデックスを複数指定することで要素にアクセスすることができます。"
   ]
  },
  {
   "cell_type": "markdown",
   "metadata": {
    "colab_type": "text",
    "id": "lL0W945_TLoX"
   },
   "source": [
    "## ●関数と配列\n",
    "\n",
    "関数の引数や返り値としてNumPyの配列を使うことができます。  \n",
    "以下の関数`my_func`は、引数として配列を受け取り、返り値として配列を返しています。"
   ]
  },
  {
   "cell_type": "code",
   "execution_count": 15,
   "metadata": {
    "colab": {
     "base_uri": "https://localhost:8080/",
     "height": 51
    },
    "colab_type": "code",
    "executionInfo": {
     "elapsed": 1065,
     "status": "ok",
     "timestamp": 1570843039463,
     "user": {
      "displayName": "我妻幸長",
      "photoUrl": "https://lh3.googleusercontent.com/a-/AAuE7mApriSD7WFqS90hsEF0afLpI9godMCxMjssIlZxhQ=s64",
      "userId": "18163015384048015182"
     },
     "user_tz": -540
    },
    "id": "Z4ZAV9uPTLoY",
    "outputId": "53608082-4a9a-4fcf-aa68-32439eb8bd75"
   },
   "outputs": [
    {
     "name": "stdout",
     "output_type": "stream",
     "text": [
      "[[ 1  3  5]\n",
      " [ 7  9 11]]\n"
     ]
    }
   ],
   "source": [
    "import numpy as np\n",
    "\n",
    "def my_func(x):\n",
    "    y = x * 2 + 1\n",
    "    return y\n",
    "\n",
    "a = np.array([[0, 1, 2],\n",
    "              [3, 4, 5]])  # 2次元配列\n",
    "b = my_func(a)  # 引数として配列を渡す\n",
    "\n",
    "print(b)"
   ]
  },
  {
   "cell_type": "markdown",
   "metadata": {
    "colab_type": "text",
    "id": "35WMwtyMTLob"
   },
   "source": [
    "## ●NumPyの様々な機能\n",
    "\n",
    "sumにより合計、averageにより平均、maxにより最大値、minにより最小値を得ることができます。"
   ]
  },
  {
   "cell_type": "code",
   "execution_count": 16,
   "metadata": {
    "colab": {
     "base_uri": "https://localhost:8080/",
     "height": 85
    },
    "colab_type": "code",
    "executionInfo": {
     "elapsed": 1106,
     "status": "ok",
     "timestamp": 1570843041815,
     "user": {
      "displayName": "我妻幸長",
      "photoUrl": "https://lh3.googleusercontent.com/a-/AAuE7mApriSD7WFqS90hsEF0afLpI9godMCxMjssIlZxhQ=s64",
      "userId": "18163015384048015182"
     },
     "user_tz": -540
    },
    "id": "I1S-WU0RTLoc",
    "outputId": "d5197b9b-3f30-4e6f-e120-f6bfb9643683"
   },
   "outputs": [
    {
     "name": "stdout",
     "output_type": "stream",
     "text": [
      "15\n",
      "2.5\n",
      "5\n",
      "0\n"
     ]
    }
   ],
   "source": [
    "import numpy as np\n",
    "\n",
    "a = np.array([[0, 1, 2],\n",
    "              [3, 4, 5]])  # 2次元配列\n",
    "\n",
    "print(np.sum(a))\n",
    "print(np.average(a))\n",
    "print(np.max(a))\n",
    "print(np.min(a))"
   ]
  },
  {
   "cell_type": "markdown",
   "metadata": {
    "colab_type": "text",
    "id": "JaroffHQTLoe"
   },
   "source": [
    "引数にaxisを指定すると、特定の方向で演算を行うことができます。"
   ]
  },
  {
   "cell_type": "code",
   "execution_count": 17,
   "metadata": {
    "colab": {
     "base_uri": "https://localhost:8080/",
     "height": 51
    },
    "colab_type": "code",
    "executionInfo": {
     "elapsed": 1077,
     "status": "ok",
     "timestamp": 1570843044855,
     "user": {
      "displayName": "我妻幸長",
      "photoUrl": "https://lh3.googleusercontent.com/a-/AAuE7mApriSD7WFqS90hsEF0afLpI9godMCxMjssIlZxhQ=s64",
      "userId": "18163015384048015182"
     },
     "user_tz": -540
    },
    "id": "rBNNXI20TLof",
    "outputId": "3ab5cb3c-dd93-487f-ea32-b0e939ccf00c"
   },
   "outputs": [
    {
     "name": "stdout",
     "output_type": "stream",
     "text": [
      "[3 5 7]\n",
      "[ 3 12]\n"
     ]
    }
   ],
   "source": [
    "import numpy as np\n",
    "\n",
    "b = np.array([[0, 1, 2],\n",
    "              [3, 4, 5]])  # 2次元配列\n",
    "\n",
    "print(np.sum(b, axis=0))  # 縦方向で合計\n",
    "print(np.sum(b, axis=1))  # 横方向で合計"
   ]
  }
 ],
 "metadata": {
  "colab": {
   "name": "numpy.ipynb",
   "provenance": []
  },
  "kernelspec": {
   "display_name": "Python 3",
   "language": "python",
   "name": "python3"
  },
  "language_info": {
   "codemirror_mode": {
    "name": "ipython",
    "version": 3
   },
   "file_extension": ".py",
   "mimetype": "text/x-python",
   "name": "python",
   "nbconvert_exporter": "python",
   "pygments_lexer": "ipython3",
   "version": "3.7.6"
  }
 },
 "nbformat": 4,
 "nbformat_minor": 4
}
